{
 "cells": [
  {
   "cell_type": "code",
   "execution_count": 1,
   "id": "05db0e23",
   "metadata": {},
   "outputs": [],
   "source": [
    "from pandas import read_csv\n",
    "## read_csv ist eine Funktion. \n"
   ]
  },
  {
   "cell_type": "code",
   "execution_count": 8,
   "id": "7c4ed589",
   "metadata": {},
   "outputs": [],
   "source": [
    "data = read_csv(\"../data/bikesharing (2).csv\")"
   ]
  },
  {
   "cell_type": "code",
   "execution_count": 9,
   "id": "5d34d7bd",
   "metadata": {},
   "outputs": [
    {
     "data": {
      "text/plain": [
       "pandas.core.frame.DataFrame"
      ]
     },
     "execution_count": 9,
     "metadata": {},
     "output_type": "execute_result"
    }
   ],
   "source": [
    "type(data)"
   ]
  },
  {
   "cell_type": "code",
   "execution_count": 11,
   "id": "f1cc8af3",
   "metadata": {},
   "outputs": [],
   "source": [
    "## DataFrame ist eine Klasse"
   ]
  },
  {
   "cell_type": "code",
   "execution_count": null,
   "id": "93fdc5a3",
   "metadata": {},
   "outputs": [],
   "source": []
  }
 ],
 "metadata": {
  "kernelspec": {
   "display_name": ".venv",
   "language": "python",
   "name": "python3"
  },
  "language_info": {
   "codemirror_mode": {
    "name": "ipython",
    "version": 3
   },
   "file_extension": ".py",
   "mimetype": "text/x-python",
   "name": "python",
   "nbconvert_exporter": "python",
   "pygments_lexer": "ipython3",
   "version": "3.12.1"
  }
 },
 "nbformat": 4,
 "nbformat_minor": 5
}
