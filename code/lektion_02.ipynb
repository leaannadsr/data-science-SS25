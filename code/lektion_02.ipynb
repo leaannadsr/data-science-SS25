{
 "cells": [
  {
   "cell_type": "markdown",
   "id": "5855b57a",
   "metadata": {},
   "source": [
    "# Megatutorial 1: Explorative Datenanalyse\n",
    "\n",
    "In diesem Megatutorial beschäftigen wir uns mit der explorativen Datenanalyse in Python.\n",
    "\n",
    "## Szenario\n",
    "\n",
    "Wir wurden von einer Social-Media-Plattform damit beauftragt, einen Datensatz mit Profildaten auszuwerten. Das Unternehmen hat uns dazu einen Datensatz mit 576 Profilen zusammengestellt. Aus Datenschutzgründen wurden in diesen Profilen alle personenbezogenen Daten entfernt. Dennoch enthalten die Daten eine Menge an Daten, die Rückschluss auf die Art der Profile enthalten. Darunter sind folgende Merkmale:\n",
    "\n",
    "* **`profile_pic`:** Eine Bool'sche Variable, die aussagt, ob bei dem Profil ein Profilbild enthalten war, oder nicht.\n",
    "* **`rel_num_numeric_char_username`:** Die Anzahl der nummerischen Zeichen im Usernamen, in relation zur Gesamtlänge des Usernamen.\n",
    "* **`words_fullname`:** Die Anzahl der Worte im Namensfeld.\n",
    "* **`rel_num_numeric_char_fullnam`:** Die Anzahl der nummerischen Zeichen im Namen, in relation zur Gesamtlänge des Namen.\n",
    "* **`name=username`:** Eine Bool'sche Variable, die aussagt, ob Username und Name übereinstimmen.\n",
    "* **`description_length`:** Die Länge der Bio, die beim betreffenden Profil hinterlegt wurde.\n",
    "* **`has_external_url`:** Eine Bool'sche Variable, die aussagt, ob beim Profil eine externe URL (z.B., zu einer Webseite) hinterlegt wurde.\n",
    "* **`is_private`:** Eine Bool'sche Variable, die aussagt, ob das betreffende Profil als privat markiert wurde.\n",
    "* **`num_posts`:** Die Anzahl der Posts, die von diesem Profil aus gesendet wurden.\n",
    "* **`num_followers`:** Die Anzahl der Follower dieses Profils.\n",
    "* **`num_follows`:** Die Anzahl der Personen, der dieses Profil folgt.\n",
    "* **`is_fake`:** Eine nachträglich eingefügte Target-Variable, die Angibt, ob diese Profil ein Fake-Profil ist, oder nicht.\n",
    "\n",
    "* mit b = neue Zelle\n",
    "* mit m = neue Markdown Zelle\n",
    "* mit dd = Zelle löschen\n",
    "## Aufgaben\n",
    "\n",
    "* Lade die Daten in `pandas`.\n",
    "* Führe eine deskriptive Datenanalyse mit geeigneten, statisches Maßen durch.\n",
    "* Führe eine deskriptive Datenanalyse mit Hilfe von geeigneten Visualisierungen durch."
   ]
  },
  {
   "cell_type": "code",
   "execution_count": 8,
   "id": "6f5a3c23",
   "metadata": {},
   "outputs": [
    {
     "name": "stdout",
     "output_type": "stream",
     "text": [
      "Requirement already satisfied: pandas==2.2.3 in /workspaces/data-science-SS25/.venv/lib/python3.12/site-packages (from -r ../requirements.txt (line 1)) (2.2.3)\n",
      "Requirement already satisfied: scikit-learn==1.6.1 in /workspaces/data-science-SS25/.venv/lib/python3.12/site-packages (from -r ../requirements.txt (line 2)) (1.6.1)\n",
      "Requirement already satisfied: scipy==1.15.3 in /workspaces/data-science-SS25/.venv/lib/python3.12/site-packages (from -r ../requirements.txt (line 3)) (1.15.3)\n",
      "Requirement already satisfied: numpy>=1.26.0 in /workspaces/data-science-SS25/.venv/lib/python3.12/site-packages (from pandas==2.2.3->-r ../requirements.txt (line 1)) (2.2.6)\n",
      "Requirement already satisfied: python-dateutil>=2.8.2 in /workspaces/data-science-SS25/.venv/lib/python3.12/site-packages (from pandas==2.2.3->-r ../requirements.txt (line 1)) (2.9.0.post0)\n",
      "Requirement already satisfied: pytz>=2020.1 in /workspaces/data-science-SS25/.venv/lib/python3.12/site-packages (from pandas==2.2.3->-r ../requirements.txt (line 1)) (2025.2)\n",
      "Requirement already satisfied: tzdata>=2022.7 in /workspaces/data-science-SS25/.venv/lib/python3.12/site-packages (from pandas==2.2.3->-r ../requirements.txt (line 1)) (2025.2)\n",
      "Requirement already satisfied: joblib>=1.2.0 in /workspaces/data-science-SS25/.venv/lib/python3.12/site-packages (from scikit-learn==1.6.1->-r ../requirements.txt (line 2)) (1.5.1)\n",
      "Requirement already satisfied: threadpoolctl>=3.1.0 in /workspaces/data-science-SS25/.venv/lib/python3.12/site-packages (from scikit-learn==1.6.1->-r ../requirements.txt (line 2)) (3.6.0)\n",
      "Requirement already satisfied: six>=1.5 in /workspaces/data-science-SS25/.venv/lib/python3.12/site-packages (from python-dateutil>=2.8.2->pandas==2.2.3->-r ../requirements.txt (line 1)) (1.17.0)\n"
     ]
    }
   ],
   "source": [
    "!pip install -r ../requirements.txt\n",
    "# kann man jetzt eig einfach löschen "
   ]
  },
  {
   "cell_type": "code",
   "execution_count": null,
   "id": "50eaab70",
   "metadata": {},
   "outputs": [],
   "source": []
  }
 ],
 "metadata": {
  "kernelspec": {
   "display_name": ".venv",
   "language": "python",
   "name": "python3"
  },
  "language_info": {
   "codemirror_mode": {
    "name": "ipython",
    "version": 3
   },
   "file_extension": ".py",
   "mimetype": "text/x-python",
   "name": "python",
   "nbconvert_exporter": "python",
   "pygments_lexer": "ipython3",
   "version": "3.12.1"
  }
 },
 "nbformat": 4,
 "nbformat_minor": 5
}
